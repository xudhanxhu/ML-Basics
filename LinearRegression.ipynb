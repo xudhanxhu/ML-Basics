{
  "cells": [
    {
      "cell_type": "markdown",
      "metadata": {
        "id": "oJvwK_gOXJBe"
      },
      "source": [
        "<h1>Linear Regression</h1>"
      ]
    },
    {
      "cell_type": "code",
      "execution_count": null,
      "metadata": {
        "id": "ruBOMEtj7kH3"
      },
      "outputs": [],
      "source": [
        "import numpy as np\n",
        "import pandas as pd\n",
        "import matplotlib.pyplot as plt\n",
        "from sklearn.model_selection import train_test_split\n",
        "from sklearn.metrics import mean_squared_error, mean_absolute_error, r2_score"
      ]
    },
    {
      "cell_type": "markdown",
      "metadata": {
        "id": "pWnsyfmkYYp8"
      },
      "source": [
        "<h2>Creating Simple Random Dataset\n",
        "\n",
        "\n"
      ]
    },
    {
      "cell_type": "code",
      "execution_count": null,
      "metadata": {
        "colab": {
          "base_uri": "https://localhost:8080/"
        },
        "id": "tfaWzJK5XVs9",
        "outputId": "5243923d-b3fe-4391-d30f-0bff128043b1"
      },
      "outputs": [
        {
          "output_type": "stream",
          "name": "stdout",
          "text": [
            "[[1.09762701]\n",
            " [1.58345008]\n",
            " [1.95723668]\n",
            " [0.52911122]\n",
            " [0.7190158 ]\n",
            " [1.14039354]\n",
            " [0.31793917]\n",
            " [1.95291893]\n",
            " [0.63596636]\n",
            " [0.6371379 ]]\n",
            "[[ 6.12773118]\n",
            " [ 8.34717328]\n",
            " [11.75486075]\n",
            " [ 7.45489263]\n",
            " [ 6.53347293]\n",
            " [ 6.65126455]\n",
            " [ 3.46255991]\n",
            " [ 9.79051518]\n",
            " [ 5.40986663]\n",
            " [ 6.83227254]]\n"
          ]
        }
      ],
      "source": [
        "np.random.seed(0)\n",
        "X = 2 * np.random.rand(100, 1)\n",
        "Y = 4 + 3 * X + np.random.randn(100, 1)\n",
        "\n",
        "print(X[::10])\n",
        "print(Y[::10])"
      ]
    },
    {
      "cell_type": "markdown",
      "source": [
        "<h2>Plot the Relation of these variable</h2>"
      ],
      "metadata": {
        "id": "-O7I6uSKFLOT"
      }
    },
    {
      "cell_type": "code",
      "execution_count": null,
      "metadata": {
        "colab": {
          "base_uri": "https://localhost:8080/",
          "height": 472
        },
        "id": "IvFbttQLY3um",
        "outputId": "fd30cfa0-5b6c-4d99-be89-ab345f4ad5a4"
      },
      "outputs": [
        {
          "output_type": "display_data",
          "data": {
            "text/plain": [
              "<Figure size 640x480 with 1 Axes>"
            ],
            "image/png": "[encoded data removed]"
          },
          "metadata": {}
        }
      ],
      "source": [
        "plt.scatter(X, Y)\n",
        "plt.xlabel(\"X\")\n",
        "plt.ylabel(\"Y\")\n",
        "plt.title(\"Simple Random Dataset\")\n",
        "plt.show()"
      ]
    },
    {
      "cell_type": "markdown",
      "source": [
        "<h2>Convert to DataFrame</h2>"
      ],
      "metadata": {
        "id": "e0RZV8UGFa2b"
      }
    },
    {
      "cell_type": "code",
      "execution_count": null,
      "metadata": {
        "colab": {
          "base_uri": "https://localhost:8080/",
          "height": 206
        },
        "id": "HK8ZQLtJYOhm",
        "outputId": "37103e6d-31cd-4cb0-f843-55a2c219f82b"
      },
      "outputs": [
        {
          "output_type": "execute_result",
          "data": {
            "text/plain": [
              "          X         Y\n",
              "0  1.097627  6.127731\n",
              "1  1.430379  9.191963\n",
              "2  1.205527  8.082243\n",
              "3  1.089766  5.733055\n",
              "4  0.847310  8.030181"
            ],
            "text/html": [
              "\n",
              "  <div id=\"df-df1b593c-a379-4ae9-86c0-9589f521a8cc\" class=\"colab-df-container\">\n",
              "    <div>\n",
              "<style scoped>\n",
              "    .dataframe tbody tr th:only-of-type {\n",
              "        vertical-align: middle;\n",
              "    }\n",
              "\n",
              "    .dataframe tbody tr th {\n",
              "        vertical-align: top;\n",
              "    }\n",
              "\n",
              "    .dataframe thead th {\n",
              "        text-align: right;\n",
              "    }\n",
              "</style>\n",
              "<table border=\"1\" class=\"dataframe\">\n",
              "  <thead>\n",
              "    <tr style=\"text-align: right;\">\n",
              "      <th></th>\n",
              "      <th>X</th>\n",
              "      <th>Y</th>\n",
              "    </tr>\n",
              "  </thead>\n",
              "  <tbody>\n",
              "    <tr>\n",
              "      <th>0</th>\n",
              "      <td>1.097627</td>\n",
              "      <td>6.127731</td>\n",
              "    </tr>\n",
              "    <tr>\n",
              "      <th>1</th>\n",
              "      <td>1.430379</td>\n",
              "      <td>9.191963</td>\n",
              "    </tr>\n",
              "    <tr>\n",
              "      <th>2</th>\n",
              "      <td>1.205527</td>\n",
              "      <td>8.082243</td>\n",
              "    </tr>\n",
              "    <tr>\n",
              "      <th>3</th>\n",
              "      <td>1.089766</td>\n",
              "      <td>5.733055</td>\n",
              "    </tr>\n",
              "    <tr>\n",
              "      <th>4</th>\n",
              "      <td>0.847310</td>\n",
              "      <td>8.030181</td>\n",
              "    </tr>\n",
              "  </tbody>\n",
              "</table>\n",
              "</div>\n",
              "    <div class=\"colab-df-buttons\">\n",
              "\n",
              "  <div class=\"colab-df-container\">\n",
              "    <button class=\"colab-df-convert\" onclick=\"convertToInteractive('df-df1b593c-a379-4ae9-86c0-9589f521a8cc')\"\n",
              "            title=\"Convert this dataframe to an interactive table.\"\n",
              "            style=\"display:none;\">\n",
              "\n",
              "  <svg xmlns=\"http://www.w3.org/2000/svg\" height=\"24px\" viewBox=\"0 -960 960 960\">\n",
              "    <path d=\"M120-120v-720h720v720H120Zm60-500h600v-160H180v160Zm220 220h160v-160H400v160Zm0 220h160v-160H400v160ZM180-400h160v-160H180v160Zm440 0h160v-160H620v160ZM180-180h160v-160H180v160Zm440 0h160v-160H620v160Z\"/>\n",
              "  </svg>\n",
              "    </button>\n",
              "\n",
              "  <style>\n",
              "    .colab-df-container {\n",
              "      display:flex;\n",
              "      gap: 12px;\n",
              "    }\n",
              "\n",
              "    .colab-df-convert {\n",
              "      background-color: #E8F0FE;\n",
              "      border: none;\n",
              "      border-radius: 50%;\n",
              "      cursor: pointer;\n",
              "      display: none;\n",
              "      fill: #1967D2;\n",
              "      height: 32px;\n",
              "      padding: 0 0 0 0;\n",
              "      width: 32px;\n",
              "    }\n",
              "\n",
              "    .colab-df-convert:hover {\n",
              "      background-color: #E2EBFA;\n",
              "      box-shadow: 0px 1px 2px rgba(60, 64, 67, 0.3), 0px 1px 3px 1px rgba(60, 64, 67, 0.15);\n",
              "      fill: #174EA6;\n",
              "    }\n",
              "\n",
              "    .colab-df-buttons div {\n",
              "      margin-bottom: 4px;\n",
              "    }\n",
              "\n",
              "    [theme=dark] .colab-df-convert {\n",
              "      background-color: #3B4455;\n",
              "      fill: #D2E3FC;\n",
              "    }\n",
              "\n",
              "    [theme=dark] .colab-df-convert:hover {\n",
              "      background-color: #434B5C;\n",
              "      box-shadow: 0px 1px 3px 1px rgba(0, 0, 0, 0.15);\n",
              "      filter: drop-shadow(0px 1px 2px rgba(0, 0, 0, 0.3));\n",
              "      fill: #FFFFFF;\n",
              "    }\n",
              "  </style>\n",
              "\n",
              "    <script>\n",
              "      const buttonEl =\n",
              "        document.querySelector('#df-df1b593c-a379-4ae9-86c0-9589f521a8cc button.colab-df-convert');\n",
              "      buttonEl.style.display =\n",
              "        google.colab.kernel.accessAllowed ? 'block' : 'none';\n",
              "\n",
              "      async function convertToInteractive(key) {\n",
              "        const element = document.querySelector('#df-df1b593c-a379-4ae9-86c0-9589f521a8cc');\n",
              "        const dataTable =\n",
              "          await google.colab.kernel.invokeFunction('convertToInteractive',\n",
              "                                                    [key], {});\n",
              "        if (!dataTable) return;\n",
              "\n",
              "        const docLinkHtml = 'Like what you see? Visit the ' +\n",
              "          '<a target=\"_blank\" href=https://colab.research.google.com/notebooks/data_table.ipynb>data table notebook</a>'\n",
              "          + ' to learn more about interactive tables.';\n",
              "        element.innerHTML = '';\n",
              "        dataTable['output_type'] = 'display_data';\n",
              "        await google.colab.output.renderOutput(dataTable, element);\n",
              "        const docLink = document.createElement('div');\n",
              "        docLink.innerHTML = docLinkHtml;\n",
              "        element.appendChild(docLink);\n",
              "      }\n",
              "    </script>\n",
              "  </div>\n",
              "\n",
              "\n",
              "<div id=\"df-2630e6ca-786d-46d1-9728-3b58215c6ffe\">\n",
              "  <button class=\"colab-df-quickchart\" onclick=\"quickchart('df-2630e6ca-786d-46d1-9728-3b58215c6ffe')\"\n",
              "            title=\"Suggest charts\"\n",
              "            style=\"display:none;\">\n",
              "\n",
              "<svg xmlns=\"http://www.w3.org/2000/svg\" height=\"24px\"viewBox=\"0 0 24 24\"\n",
              "     width=\"24px\">\n",
              "    <g>\n",
              "        <path d=\"M19 3H5c-1.1 0-2 .9-2 2v14c0 1.1.9 2 2 2h14c1.1 0 2-.9 2-2V5c0-1.1-.9-2-2-2zM9 17H7v-7h2v7zm4 0h-2V7h2v10zm4 0h-2v-4h2v4z\"/>\n",
              "    </g>\n",
              "</svg>\n",
              "  </button>\n",
              "\n",
              "<style>\n",
              "  .colab-df-quickchart {\n",
              "      --bg-color: #E8F0FE;\n",
              "      --fill-color: #1967D2;\n",
              "      --hover-bg-color: #E2EBFA;\n",
              "      --hover-fill-color: #174EA6;\n",
              "      --disabled-fill-color: #AAA;\n",
              "      --disabled-bg-color: #DDD;\n",
              "  }\n",
              "\n",
              "  [theme=dark] .colab-df-quickchart {\n",
              "      --bg-color: #3B4455;\n",
              "      --fill-color: #D2E3FC;\n",
              "      --hover-bg-color: #434B5C;\n",
              "      --hover-fill-color: #FFFFFF;\n",
              "      --disabled-bg-color: #3B4455;\n",
              "      --disabled-fill-color: #666;\n",
              "  }\n",
              "\n",
              "  .colab-df-quickchart {\n",
              "    background-color: var(--bg-color);\n",
              "    border: none;\n",
              "    border-radius: 50%;\n",
              "    cursor: pointer;\n",
              "    display: none;\n",
              "    fill: var(--fill-color);\n",
              "    height: 32px;\n",
              "    padding: 0;\n",
              "    width: 32px;\n",
              "  }\n",
              "\n",
              "  .colab-df-quickchart:hover {\n",
              "    background-color: var(--hover-bg-color);\n",
              "    box-shadow: 0 1px 2px rgba(60, 64, 67, 0.3), 0 1px 3px 1px rgba(60, 64, 67, 0.15);\n",
              "    fill: var(--button-hover-fill-color);\n",
              "  }\n",
              "\n",
              "  .colab-df-quickchart-complete:disabled,\n",
              "  .colab-df-quickchart-complete:disabled:hover {\n",
              "    background-color: var(--disabled-bg-color);\n",
              "    fill: var(--disabled-fill-color);\n",
              "    box-shadow: none;\n",
              "  }\n",
              "\n",
              "  .colab-df-spinner {\n",
              "    border: 2px solid var(--fill-color);\n",
              "    border-color: transparent;\n",
              "    border-bottom-color: var(--fill-color);\n",
              "    animation:\n",
              "      spin 1s steps(1) infinite;\n",
              "  }\n",
              "\n",
              "  @keyframes spin {\n",
              "    0% {\n",
              "      border-color: transparent;\n",
              "      border-bottom-color: var(--fill-color);\n",
              "      border-left-color: var(--fill-color);\n",
              "    }\n",
              "    20% {\n",
              "      border-color: transparent;\n",
              "      border-left-color: var(--fill-color);\n",
              "      border-top-color: var(--fill-color);\n",
              "    }\n",
              "    30% {\n",
              "      border-color: transparent;\n",
              "      border-left-color: var(--fill-color);\n",
              "      border-top-color: var(--fill-color);\n",
              "      border-right-color: var(--fill-color);\n",
              "    }\n",
              "    40% {\n",
              "      border-color: transparent;\n",
              "      border-right-color: var(--fill-color);\n",
              "      border-top-color: var(--fill-color);\n",
              "    }\n",
              "    60% {\n",
              "      border-color: transparent;\n",
              "      border-right-color: var(--fill-color);\n",
              "    }\n",
              "    80% {\n",
              "      border-color: transparent;\n",
              "      border-right-color: var(--fill-color);\n",
              "      border-bottom-color: var(--fill-color);\n",
              "    }\n",
              "    90% {\n",
              "      border-color: transparent;\n",
              "      border-bottom-color: var(--fill-color);\n",
              "    }\n",
              "  }\n",
              "</style>\n",
              "\n",
              "  <script>\n",
              "    async function quickchart(key) {\n",
              "      const quickchartButtonEl =\n",
              "        document.querySelector('#' + key + ' button');\n",
              "      quickchartButtonEl.disabled = true;  // To prevent multiple clicks.\n",
              "      quickchartButtonEl.classList.add('colab-df-spinner');\n",
              "      try {\n",
              "        const charts = await google.colab.kernel.invokeFunction(\n",
              "            'suggestCharts', [key], {});\n",
              "      } catch (error) {\n",
              "        console.error('Error during call to suggestCharts:', error);\n",
              "      }\n",
              "      quickchartButtonEl.classList.remove('colab-df-spinner');\n",
              "      quickchartButtonEl.classList.add('colab-df-quickchart-complete');\n",
              "    }\n",
              "    (() => {\n",
              "      let quickchartButtonEl =\n",
              "        document.querySelector('#df-2630e6ca-786d-46d1-9728-3b58215c6ffe button');\n",
              "      quickchartButtonEl.style.display =\n",
              "        google.colab.kernel.accessAllowed ? 'block' : 'none';\n",
              "    })();\n",
              "  </script>\n",
              "</div>\n",
              "\n",
              "    </div>\n",
              "  </div>\n"
            ],
            "application/vnd.google.colaboratory.intrinsic+json": {
              "type": "dataframe",
              "variable_name": "df",
              "summary": "{\n  \"name\": \"df\",\n  \"rows\": 100,\n  \"fields\": [\n    {\n      \"column\": \"X\",\n      \"properties\": {\n        \"dtype\": \"number\",\n        \"std\": 0.579508030480583,\n        \"min\": 0.009390952385094131,\n        \"max\": 1.9767476761184524,\n        \"num_unique_values\": 100,\n        \"samples\": [\n          1.3849442387400397,\n          0.20408962149605614,\n          1.9529189300267915\n        ],\n        \"semantic_type\": \"\",\n        \"description\": \"\"\n      }\n    },\n    {\n      \"column\": \"Y\",\n      \"properties\": {\n        \"dtype\": \"number\",\n        \"std\": 1.9904084910219964,\n        \"min\": 3.0188719677730385,\n        \"max\": 11.754860750452838,\n        \"num_unique_values\": 100,\n        \"samples\": [\n          8.242383957605309,\n          4.64409942276252,\n          9.790515184755742\n        ],\n        \"semantic_type\": \"\",\n        \"description\": \"\"\n      }\n    }\n  ]\n}"
            }
          },
          "metadata": {},
          "execution_count": 4
        }
      ],
      "source": [
        "df = pd.DataFrame(np.hstack((X, Y)), columns=['X', 'Y'])\n",
        "df.head()"
      ]
    },
    {
      "cell_type": "markdown",
      "source": [
        "<h2>Data Preparation</h2>"
      ],
      "metadata": {
        "id": "rYSqyEOVGMpy"
      }
    },
    {
      "cell_type": "code",
      "source": [
        "np.random.seed(4)\n",
        "msk = np.random.rand(len(X)) < 0.8\n",
        "X_train = X[msk]\n",
        "Y_train = Y[msk]\n",
        "X_test = X[~msk]\n",
        "Y_test = Y[~msk]\n",
        "\n",
        "print(X_train.shape)\n",
        "print(Y_train.shape)\n",
        "print(X_test.shape)\n",
        "print(Y_test.shape)"
      ],
      "metadata": {
        "colab": {
          "base_uri": "https://localhost:8080/"
        },
        "id": "XTZrHWw4EZ02",
        "outputId": "e5d92959-82a6-4b9f-a516-a91450ad6ba2"
      },
      "execution_count": null,
      "outputs": [
        {
          "output_type": "stream",
          "name": "stdout",
          "text": [
            "(80, 1)\n",
            "(80, 1)\n",
            "(20, 1)\n",
            "(20, 1)\n"
          ]
        }
      ]
    },
    {
      "cell_type": "markdown",
      "source": [
        "<h2>Model and its Parameters</h2>"
      ],
      "metadata": {
        "id": "eUBdVwtcHfvJ"
      }
    },
    {
      "cell_type": "markdown",
      "source": [
        "$$ F_{w,b}(X) = wX + b $$\n",
        "\n",
        "<h4>where:</h4>\n",
        "\n",
        "* $F_{w,b}(X)$ : Prediction function\n",
        "* $w$ : Weight (coefficient)\n",
        "* $X$ : Input feature\n",
        "* $b$ : Bias (intercept)\n"
      ],
      "metadata": {
        "id": "s0sVdlyVPZol"
      }
    },
    {
      "cell_type": "code",
      "execution_count": null,
      "metadata": {
        "id": "4sOoAk27sLeW"
      },
      "outputs": [],
      "source": [
        "w, b = 0, 0\n",
        "\n",
        "def predict(X, w, b):\n",
        "    return w * X + b"
      ]
    },
    {
      "cell_type": "markdown",
      "source": [
        "<h2>Cost Functions</h2>"
      ],
      "metadata": {
        "id": "jfpx_5D-HvSR"
      }
    },
    {
      "cell_type": "markdown",
      "source": [
        "- <h3>Mean Squared Error</h3>"
      ],
      "metadata": {
        "id": "iuOD7vjF1Kof"
      }
    },
    {
      "cell_type": "markdown",
      "source": [
        "$$ J(w,b) = \\frac{1}{2m} \\sum_{i=1}^m (\\hat{y}^{(i)} - y^{(i)})^2 $$\n",
        "\n",
        "<h4>where:</h4>\n",
        "\n",
        "* $J(w,b)$ : Cost function that measures the error between predictions and actual values\n",
        "* $m$ : Total number of training examples\n",
        "* $\\hat{y}^{(i)}$ : Predicted value for the i-th training example\n",
        "* $y^{(i)}$ : Actual value for the i-th training example\n",
        "* $\\frac{1}{2m}$ : Scaling factor that computes the average and makes derivatives cleaner\n",
        "* $(\\hat{y}^{(i)} - y^{(i)})^2$ : Squared difference between predicted and actual values"
      ],
      "metadata": {
        "id": "sXYkL_ncgOqW"
      }
    },
    {
      "cell_type": "code",
      "execution_count": null,
      "metadata": {
        "id": "NHxPq2PqsZFd"
      },
      "outputs": [],
      "source": [
        "def compute_cost(Y, predictions):\n",
        "    m = Y.shape[0]\n",
        "    cost = (1 / m) * np.sum((predictions - Y) ** 2)\n",
        "    # cost = (1 / (2 * m)) * np.sum((predictions - Y) ** 2)\n",
        "    return cost\n"
      ]
    },
    {
      "cell_type": "markdown",
      "source": [
        "- <h3>Mean Absolute Error</h3>"
      ],
      "metadata": {
        "id": "guzFTfAR1Yhv"
      }
    },
    {
      "cell_type": "markdown",
      "source": [
        "$$ J(w,b) = \\frac{1}{m} \\sum_{i=1}^m |\\hat{y}^{(i)} - y^{(i)}| $$\n",
        "\n",
        "<h4>where:</h4>\n",
        "\n",
        "* $J(w,b)$ : Cost function that measures the error between predictions and actual values\n",
        "* $m$ : Total number of training examples\n",
        "* $\\hat{y}^{(i)}$ : Predicted value for the i-th training example\n",
        "* $y^{(i)}$ : Actual value for the i-th training example\n",
        "* $\\frac{1}{m}$ : Scaling factor that computes the average\n",
        "* $|{y}^{(i)} - y^{(i)}|$ : Absolute difference between predicted and actual values"
      ],
      "metadata": {
        "id": "XzB9NV1vgVsP"
      }
    },
    {
      "cell_type": "code",
      "source": [
        "def mae_cost(Y, predictions):\n",
        "    m = Y.shape[0];\n",
        "    cost = (1 / m) * np.sum(np.abs(predictions - Y))\n",
        "    return cost"
      ],
      "metadata": {
        "id": "7CTvJem31sYe"
      },
      "execution_count": null,
      "outputs": []
    },
    {
      "cell_type": "markdown",
      "source": [
        "- <h3>R² Score</h3>"
      ],
      "metadata": {
        "id": "vOdMrBcJ3D-v"
      }
    },
    {
      "cell_type": "markdown",
      "source": [
        "$$ R^2 = 1 - \\frac{\\sum_{i=1}^{m} (\\hat{y}^{(i)} - y^{(i)})^2}{\\sum_{i=1}^{m} (y^{(i)} - \\bar{y})^2} $$\n",
        "\n",
        "<h4>where:</h4>\n",
        "\n",
        "* $R^2$ : Coefficient of determination, measures the proportion of variance explained by the model\n",
        "* $m$ : Total number of training examples\n",
        "* $\\hat{y}^{(i)}$ : Predicted value for the i-th training example\n",
        "* $y^{(i)}$ : Actual value for the i-th training example\n",
        "* $\\bar{y}$ : Mean of the actual values, $\\bar{y} = \\frac{1}{m} \\sum_{i=1}^{m} y^{(i)}$\n",
        "* $(\\hat{y}^{(i)} - y^{(i)})^2$ : Squared residuals, the difference between predicted and actual values\n",
        "* $(y^{(i)} - \\bar{y})^2$ : Total sum of squares, the variance of the actual values\n"
      ],
      "metadata": {
        "id": "XhhR4JRUhqrQ"
      }
    },
    {
      "cell_type": "code",
      "source": [
        "def r2_cost(Y, predictions):\n",
        "    mean_y = np.mean(Y)\n",
        "    variance = np.sum((Y - mean_y) ** 2)\n",
        "    residuals = np.sum((Y - predictions) ** 2)\n",
        "    r2 = 1 - (residuals / variance)\n",
        "    return r2"
      ],
      "metadata": {
        "id": "wNIaRl_j3gq2"
      },
      "execution_count": null,
      "outputs": []
    },
    {
      "cell_type": "markdown",
      "source": [
        "<h2>Implement Gradient Descent</h2>"
      ],
      "metadata": {
        "id": "ClVMv1XiH19K"
      }
    },
    {
      "cell_type": "markdown",
      "source": [
        "$$ w := w - \\alpha \\frac{\\partial J(w,b)}{\\partial w}, \\quad b := b - \\alpha \\frac{\\partial J(w,b)}{\\partial b} $$\n",
        "\n",
        "<h4>where:</h4>\n",
        "\n",
        "* $w$ : Weight (coefficient) that is being optimized\n",
        "* $b$ : Bias (intercept) that is being optimized\n",
        "* $\\alpha$ : Learning rate, controls the step size in each iteration\n",
        "* $J(w,b)$ : Cost function, typically Mean Squared Error (MSE), given by:\n",
        "  $$\n",
        "  J(w,b) = \\frac{1}{2m} \\sum_{i=1}^{m} \\left( \\hat{y}^{(i)} - y^{(i)} \\right)^2\n",
        "  $$\n",
        "* $\\frac{\\partial J(w,b)}{\\partial w}$ : Partial derivative of the cost function with respect to $w$, given by:\n",
        "  $$\n",
        "  \\frac{\\partial J(w,b)}{\\partial w} = \\frac{1}{m} \\sum_{i=1}^{m} \\left( \\hat{y}^{(i)} - y^{(i)} \\right) X^{(i)}\n",
        "  $$\n",
        "* $\\frac{\\partial J(w,b)}{\\partial b}$ : Partial derivative of the cost function with respect to $b$, given by:\n",
        "  $$\n",
        "  \\frac{\\partial J(w,b)}{\\partial b} = \\frac{1}{m} \\sum_{i=1}^{m} \\left( \\hat{y}^{(i)} - y^{(i)} \\right)\n",
        "  $$\n",
        "\n",
        "In these equations:\n",
        "- $\\hat{y}^{(i)} = w X^{(i)} + b$ is the predicted value for the $i$-th training example.\n",
        "- $y^{(i)}$ is the actual value for the $i$-th training example.\n",
        "- $X^{(i)}$ is the input feature for the $i$-th training example.\n",
        "- $m$ is the total number of training examples.\n",
        "\n",
        "The update rules use the gradients of the cost function with respect to \\( w \\) and \\( b \\) to iteratively improve the values of \\( w \\) and \\( b \\) by moving in the opposite direction of the gradient, scaled by the learning rate \\( \\alpha \\).\n"
      ],
      "metadata": {
        "id": "70aJt-Uoi5xP"
      }
    },
    {
      "cell_type": "code",
      "execution_count": null,
      "metadata": {
        "id": "N2J4CiiebjCd"
      },
      "outputs": [],
      "source": [
        "def gradient_descent(X, Y, w, b, learning_rate, iterations):\n",
        "    m = X.shape[0]\n",
        "    for i in range(iterations):\n",
        "        predictions = predict(X, w, b)\n",
        "        # Calculate gradient\n",
        "        dw = (1 / m) * np.sum((predictions - Y) * X)\n",
        "        db = (1 / m) * np.sum(predictions - Y)\n",
        "\n",
        "        # Update parameters\n",
        "        w -= learning_rate * dw\n",
        "        b -= learning_rate * db\n",
        "\n",
        "        # Print cost every 100 iterations\n",
        "        if i % 100 == 0:\n",
        "            print(f\"Iteration {i}: Cost {compute_cost(Y, predictions)}\")\n",
        "\n",
        "    return w, b\n"
      ]
    },
    {
      "cell_type": "markdown",
      "source": [
        "<h2>Setting Hyperparameters and Training</>"
      ],
      "metadata": {
        "id": "anoaAzB9KGaJ"
      }
    },
    {
      "cell_type": "code",
      "execution_count": null,
      "metadata": {
        "colab": {
          "base_uri": "https://localhost:8080/"
        },
        "id": "qf-AXhC7dGR3",
        "outputId": "377affa1-c15c-4edc-fbd3-349502665499"
      },
      "outputs": [
        {
          "output_type": "stream",
          "name": "stdout",
          "text": [
            "Iteration 0: Cost 51.24724146817039\n",
            "Iteration 100: Cost 0.9602020770824201\n",
            "Iteration 200: Cost 0.953492983026531\n",
            "Iteration 300: Cost 0.9532921056852359\n",
            "Iteration 400: Cost 0.9532860912060965\n",
            "Iteration 500: Cost 0.9532859111262572\n",
            "Iteration 600: Cost 0.9532859057344771\n",
            "Iteration 700: Cost 0.9532859055730416\n",
            "Iteration 800: Cost 0.953285905568208\n",
            "Iteration 900: Cost 0.9532859055680633\n",
            "Final parameters: w = 2.925230438641555, b = 4.24147247281325\n"
          ]
        }
      ],
      "source": [
        "#set hyperparameters\n",
        "learning_rate = 0.1\n",
        "iterations = 1000\n",
        "\n",
        "#train model\n",
        "w, b = gradient_descent(X_train, Y_train, w, b, learning_rate, iterations)\n",
        "\n",
        "#print final parameters\n",
        "print(f\"Final parameters: w = {w}, b = {b}\")"
      ]
    },
    {
      "cell_type": "markdown",
      "source": [
        "<h2>Plot Predictions</>"
      ],
      "metadata": {
        "id": "5KAZkXRfMfoX"
      }
    },
    {
      "cell_type": "code",
      "execution_count": null,
      "metadata": {
        "colab": {
          "base_uri": "https://localhost:8080/",
          "height": 472
        },
        "id": "IdlwQxCRd5mU",
        "outputId": "6f954f9c-a172-464e-9a87-c217c7c0ce10"
      },
      "outputs": [
        {
          "output_type": "display_data",
          "data": {
            "text/plain": [
              "<Figure size 640x480 with 1 Axes>"
            ],
            "image/png": "[encoded data removed]"
          },
          "metadata": {}
        }
      ],
      "source": [
        "plt.scatter(X_train, Y_train, color = 'blue', label = 'Training Data')\n",
        "plt.scatter(X_test, Y_test, color = 'green', label = 'Testing Data')\n",
        "plt.plot(X, predict(X, w, b), 'r-', label = 'Model Prediction')\n",
        "plt.legend()\n",
        "plt.xlabel(\"X\")\n",
        "plt.ylabel(\"Y\")\n",
        "plt.title(\"Simple Linear Regression\")\n",
        "plt.show()\n"
      ]
    },
    {
      "cell_type": "markdown",
      "source": [
        "<h2>Model Evaluation</>"
      ],
      "metadata": {
        "id": "XJ35-bgvMoyo"
      }
    },
    {
      "cell_type": "code",
      "source": [
        "predictions = predict(X_test, w, b)\n",
        "\n",
        "mse = mean_squared_error(Y_test, predictions)\n",
        "print(f\"Mean Squared Error: {mse}\")\n",
        "\n",
        "mae = mean_absolute_error(Y_test, predictions)\n",
        "print(f\"Mean Absolute Error: {mae}\")\n",
        "\n",
        "r2 = r2_score(Y_test, predictions)\n",
        "print(f\"R-squared: {r2}\")"
      ],
      "metadata": {
        "colab": {
          "base_uri": "https://localhost:8080/"
        },
        "id": "7Q6N5mvdKpKU",
        "outputId": "78b75678-0659-4328-d528-3bf575651750"
      },
      "execution_count": null,
      "outputs": [
        {
          "output_type": "stream",
          "name": "stdout",
          "text": [
            "Mean Squared Error: 1.1544821311788458\n",
            "Mean Absolute Error: 0.9065086155317239\n",
            "R-squared: 0.6738188137446567\n"
          ]
        }
      ]
    },
    {
      "cell_type": "markdown",
      "source": [
        "<h2>Model Evaluation (Manual)</>"
      ],
      "metadata": {
        "id": "tDEeRQqk01yn"
      }
    },
    {
      "cell_type": "code",
      "source": [
        "predictions = predict(X_test, w, b)\n",
        "\n",
        "mse = compute_cost(Y_test, predictions)\n",
        "print(f\"Mean Squared Error: {mse}\")\n",
        "\n",
        "mae = mae_cost(Y_test, predictions)\n",
        "print(f\"Mean Absolute Error: {mae}\")\n",
        "\n",
        "r2 = r2_cost(Y_test, predictions)\n",
        "print(f\"R-squared: {r2}\")"
      ],
      "metadata": {
        "colab": {
          "base_uri": "https://localhost:8080/"
        },
        "id": "06w6cEZM4_fF",
        "outputId": "b0b7ad67-19d3-4043-98c3-2a08ee3b0924"
      },
      "execution_count": null,
      "outputs": [
        {
          "output_type": "stream",
          "name": "stdout",
          "text": [
            "Mean Squared Error: 1.1544821311788458\n",
            "Mean Absolute Error: 0.9065086155317239\n",
            "R-squared: 0.6738188137446567\n"
          ]
        }
      ]
    },
    {
      "cell_type": "markdown",
      "source": [
        "<h2>Residuals Plot</>"
      ],
      "metadata": {
        "id": "0aEg1nuH5c8l"
      }
    },
    {
      "cell_type": "markdown",
      "source": [
        "$$ residuals = \\sum_{i=1}^m (\\hat{y}^{(i)} - y^{(i)}) $$"
      ],
      "metadata": {
        "id": "HFl1CZI8oWg0"
      }
    },
    {
      "cell_type": "code",
      "source": [
        "residuals = Y_test - predictions\n",
        "\n",
        "plt.figure(figsize=(10, 6))\n",
        "plt.scatter(Y_test, residuals, alpha = 0.6, label = 'Actual Values')\n",
        "plt.hlines(0, Y_test.min(), Y_test.max(), colors='blue', linestyles='--', label = 'Residual')\n",
        "plt.legend()\n",
        "plt.xlabel(\"Actual Values (Y_test)\")\n",
        "plt.ylabel(\"Residuals (Y_test - predictions)\")\n",
        "plt.title(\"Residual Plot\")\n",
        "plt.show()"
      ],
      "metadata": {
        "colab": {
          "base_uri": "https://localhost:8080/",
          "height": 564
        },
        "id": "T7m9nhcc1Fyb",
        "outputId": "404ff395-3e46-4930-83f8-3b6d49b23c5a"
      },
      "execution_count": null,
      "outputs": [
        {
          "output_type": "display_data",
          "data": {
            "text/plain": [
              "<Figure size 1000x600 with 1 Axes>"
            ],
            "image/png": "[encoded data removed]"
          },
          "metadata": {}
        }
      ]
    },
    {
      "cell_type": "markdown",
      "source": [
        "<h2>Using Sci-kitlearn Linear Model</h2>"
      ],
      "metadata": {
        "id": "k7glZ0uBFnBK"
      }
    },
    {
      "cell_type": "code",
      "source": [
        "from sklearn.linear_model import LinearRegression\n",
        "\n",
        "model = LinearRegression()\n",
        "model.fit(X_train, Y_train)\n",
        "\n",
        "print(f\"Coefficient: {model.coef_}\")\n",
        "print(f\"Intercept: {model.intercept_}\")"
      ],
      "metadata": {
        "colab": {
          "base_uri": "https://localhost:8080/"
        },
        "id": "U80qEauRFyti",
        "outputId": "a6463779-e504-46dd-a91a-dd3180535fb1"
      },
      "execution_count": null,
      "outputs": [
        {
          "output_type": "stream",
          "name": "stdout",
          "text": [
            "Coefficient: [[2.92523042]]\n",
            "Intercept: [4.24147249]\n"
          ]
        }
      ]
    },
    {
      "cell_type": "code",
      "execution_count": null,
      "metadata": {
        "colab": {
          "base_uri": "https://localhost:8080/",
          "height": 489
        },
        "outputId": "2497a64b-5354-4c7e-f814-f04e073b3098",
        "id": "JhjdzAiwLRzK"
      },
      "outputs": [
        {
          "output_type": "display_data",
          "data": {
            "text/plain": [
              "<Figure size 640x480 with 1 Axes>"
            ],
            "image/png": "[encoded data removed]"
          },
          "metadata": {}
        },
        {
          "output_type": "display_data",
          "data": {
            "text/plain": [
              "<Figure size 640x480 with 0 Axes>"
            ]
          },
          "metadata": {}
        }
      ],
      "source": [
        "plt.scatter(X_train, Y_train, color = 'blue', alpha = 0.6, label = 'Training Data')\n",
        "plt.scatter(X_test, Y_test, color = 'green', alpha = 0.6, label = 'Testing Data')\n",
        "plt.plot(X, model.predict(X), '#030f40', alpha = 0.8, label = 'Model Prediction')\n",
        "plt.legend()\n",
        "plt.xlabel(\"X\")\n",
        "plt.ylabel(\"Y\")\n",
        "plt.title(\"Simple Linear Regression\")\n",
        "plt.show()"
      ]
    },
    {
      "cell_type": "code",
      "source": [
        "predictions = model.predict(X_test)\n",
        "\n",
        "mse = mean_squared_error(Y_test, predictions)\n",
        "print(f\"Mean Squared Error: {mse}\")\n",
        "\n",
        "mae = mean_absolute_error(Y_test, predictions)\n",
        "print(f\"Mean Absolute Error: {mae}\")\n",
        "\n",
        "r2 = r2_score(Y_test, predictions)\n",
        "print(f\"R-squared: {r2}\")"
      ],
      "metadata": {
        "colab": {
          "base_uri": "https://localhost:8080/"
        },
        "outputId": "1f9b9163-8016-4cc0-dcde-084b4710da7b",
        "id": "y-zCPve5LZex"
      },
      "execution_count": null,
      "outputs": [
        {
          "output_type": "stream",
          "name": "stdout",
          "text": [
            "Mean Squared Error: 1.154482131178847\n",
            "Mean Absolute Error: 0.9065086155317248\n",
            "R-squared: 0.6738188137446564\n"
          ]
        }
      ]
    },
    {
      "cell_type": "code",
      "source": [
        "residuals = Y_test - predictions\n",
        "\n",
        "plt.figure(figsize=(10, 6))\n",
        "plt.scatter(Y_test, residuals, alpha = 0.6, label = 'Actual Values')\n",
        "plt.hlines(0, Y_test.min(), Y_test.max(), colors='blue', linestyles='--', alpha = 0.4, label = 'Residual')\n",
        "plt.legend()\n",
        "plt.xlabel(\"Actual Values (Y_test)\")\n",
        "plt.ylabel(\"Residuals (Y_test - predictions)\")\n",
        "plt.title(\"Residual Plot\")\n",
        "plt.show()"
      ],
      "metadata": {
        "colab": {
          "base_uri": "https://localhost:8080/",
          "height": 564
        },
        "outputId": "96a56b52-9ddd-473c-b848-ccbd18759253",
        "id": "GOcylMNWLZex"
      },
      "execution_count": null,
      "outputs": [
        {
          "output_type": "display_data",
          "data": {
            "text/plain": [
              "<Figure size 1000x600 with 1 Axes>"
            ],
            "image/png": "[encoded data removed]"
          },
          "metadata": {}
        }
      ]
    }
  ],
  "metadata": {
    "colab": {
      "provenance": []
    },
    "kernelspec": {
      "display_name": "Python 3",
      "name": "python3"
    },
    "language_info": {
      "name": "python"
    }
  },
  "nbformat": 4,
  "nbformat_minor": 0
}